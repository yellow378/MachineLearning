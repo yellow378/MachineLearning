{
 "cells": [
  {
   "cell_type": "code",
   "execution_count": 1,
   "metadata": {},
   "outputs": [],
   "source": [
    "import pandas as pd\n",
    "import numpy as np\n",
    "from torch.utils.data import Dataset\n",
    "from torch.utils.data import DataLoader\n",
    "import torch.nn.functional as F\n",
    "import torch\n",
    "import torch.nn as nn\n",
    "from sklearn.preprocessing import MinMaxScaler\n",
    "from sklearn.model_selection import train_test_split\n",
    "import matplotlib.pyplot as plt\n",
    "from matplotlib.font_manager import FontProperties\n",
    "my_font = FontProperties(fname=r\"c:\\windows\\fonts\\SimHei.ttf\",size=12)"
   ]
  },
  {
   "cell_type": "code",
   "execution_count": 2,
   "metadata": {},
   "outputs": [],
   "source": [
    "class WindDataSet(Dataset):\n",
    "    def __init__(self,path,num_steps=50):\n",
    "        self.data = []\n",
    "        file = pd.read_csv(path,skiprows=1)\n",
    "        self.feature = np.array(file[[ \"Month\", \"Day\", \"Hour\", \"Minute\", \"surface air pressure (Pa)\", \"relative humidity at 2m (%)\", \"surface precipitation rate (mm/h)\", \"air temperature at 10m (C)\", \"wind direction at 10m (deg)\",\"wind speed at 10m (m/s)\"]])\n",
    "        self.target = np.array(file[\"wind speed at 10m (m/s)\"])\n",
    "        wind_len = len(self.feature)\n",
    "        for i in range(wind_len-num_steps-1):\n",
    "            self.data.append((self.feature[i:i+num_steps],self.target[i+num_steps:i+num_steps+10]))\n",
    "        self.data = self.data[:int(len(self.data)/250)*250]\n",
    "    def __len__(self):\n",
    "        return len(self.data)   \n",
    "    def __getitem__(self,index):\n",
    "        seq,pre = self.data[index]\n",
    "        return seq,pre\n"
   ]
  },
  {
   "cell_type": "code",
   "execution_count": 3,
   "metadata": {},
   "outputs": [
    {
     "data": {
      "text/plain": [
       "device(type='cpu')"
      ]
     },
     "execution_count": 3,
     "metadata": {},
     "output_type": "execute_result"
    }
   ],
   "source": [
    "def try_gpu(i=0):\n",
    "    if torch.cuda.device_count() >= i + 1:\n",
    "        return torch.device(f'cuda:{i}')\n",
    "    return torch.device('cpu')\n",
    "try_gpu()"
   ]
  },
  {
   "cell_type": "code",
   "execution_count": 4,
   "metadata": {},
   "outputs": [],
   "source": [
    "INPUT_SIZE=10\n",
    "HIDDEN_SIZE=512\n",
    "BATCH_SIZE=250\n",
    "OUTPUT_SIZE=10\n",
    "NUM_LAYERS=4\n",
    "\n",
    "class lstm(nn.Module):\n",
    "    def __init__(self):\n",
    "        super(lstm,self).__init__()\n",
    "        self.rnn = nn.LSTM(input_size=INPUT_SIZE,hidden_size=HIDDEN_SIZE,num_layers=NUM_LAYERS)\n",
    "        self.fc1 = nn.Linear(HIDDEN_SIZE,100)\n",
    "        self.fc2 = nn.Linear(100,OUTPUT_SIZE)\n",
    "    def forward(self,x,state):\n",
    "        x = torch.transpose(x,dim0=0,dim1=1).reshape((x.shape[1],-1,INPUT_SIZE))\n",
    "        out,state = self.rnn(x,state)\n",
    "        out = self.fc1(out)\n",
    "        out = nn.functional.relu(out)\n",
    "        out = self.fc2(out)\n",
    "        return out[-1],state\n",
    "    def begin_state(self,batch_size,device):\n",
    "        return (torch.zeros((4,batch_size,HIDDEN_SIZE),device=device),torch.zeros((4,batch_size, HIDDEN_SIZE), device=device))"
   ]
  },
  {
   "cell_type": "code",
   "execution_count": 5,
   "metadata": {},
   "outputs": [
    {
     "name": "stdout",
     "output_type": "stream",
     "text": [
      "cpu\n"
     ]
    }
   ],
   "source": [
    "net = lstm()\n",
    "lr = 0.01\n",
    "device = try_gpu()\n",
    "print(device)\n",
    "net = net.to(device)\n",
    "optimizer = torch.optim.Adam(net.parameters(),lr=lr)\n",
    "loss = nn.MSELoss()\n",
    "epochs = 100\n",
    "num_steps=50"
   ]
  },
  {
   "cell_type": "code",
   "execution_count": 6,
   "metadata": {},
   "outputs": [],
   "source": [
    "def grad_clipping(net,theta):\n",
    "    if isinstance(net,nn.Module):\n",
    "        params = [p for p in net.parameters() if p.requires_grad]\n",
    "    else:\n",
    "        params = net.params\n",
    "    norm = torch.sqrt(sum(torch.sum((p.grad ** 2)) for p in params))\n",
    "    if norm > theta:\n",
    "        for param in params:\n",
    "            param.grad[:] *= theta/norm"
   ]
  },
  {
   "cell_type": "code",
   "execution_count": 7,
   "metadata": {},
   "outputs": [],
   "source": [
    "\n",
    "def train_epoch(epoch,net,train_loader,device,train_loss):\n",
    "    net = net.to(device)\n",
    "    net.train()\n",
    "    runing_loss=0\n",
    "    for batch_idx,(X,y) in enumerate(train_loader):\n",
    "        state=net.begin_state(batch_size=BATCH_SIZE, device=device)\n",
    "        for s in state:\n",
    "            s.detach_()\n",
    "        optimizer.zero_grad()\n",
    "        X,y = X.to(torch.float32).to(device),y.to(torch.float32).to(device)\n",
    "        y_hat,state = net(X,state)\n",
    "        #print(y_hat.shape,y.shape)\n",
    "        l = loss(y_hat,y).mean()\n",
    "        l.backward()\n",
    "        grad_clipping(net, 1)\n",
    "        optimizer.step()\n",
    "        runing_loss = l.item()\n",
    "        if epoch%50 == 49:\n",
    "            print(f'file:{epoch+1},running_loss:{runing_loss}')\n",
    "            train_loss.append(l.item())\n",
    "            runing_loss=0\n"
   ]
  },
  {
   "cell_type": "code",
   "execution_count": 8,
   "metadata": {},
   "outputs": [],
   "source": [
    "def save_net(path = 'wind_10input.pt', net=None):\n",
    "    torch.save(net.state_dict(),path)\n",
    "# save_net(net=net)"
   ]
  },
  {
   "cell_type": "code",
   "execution_count": 9,
   "metadata": {},
   "outputs": [],
   "source": [
    "def train(epochs):\n",
    "    train_loss = []\n",
    "    for epoch in range(epochs):\n",
    "        for i in range(120):\n",
    "            dataset = WindDataSet(f'./datasets/{i}.csv',num_steps)\n",
    "            train_loader = DataLoader(dataset,batch_size=BATCH_SIZE,shuffle=False,num_workers=0)\n",
    "            train_epoch(i,net,train_loader,device,train_loss)\n",
    "        print(f'###epoch:{epoch+1},train_loss:{train_loss[-1]}')\n",
    "        save_net(path=f\"MM2-epoch{epoch}.pt\",net=net.to('cpu'))\n",
    "        #net = net.to(device)\n",
    "    "
   ]
  },
  {
   "cell_type": "code",
   "execution_count": null,
   "metadata": {},
   "outputs": [],
   "source": [
    "train(epochs)"
   ]
  },
  {
   "cell_type": "code",
   "execution_count": 10,
   "metadata": {},
   "outputs": [],
   "source": [
    "def load_net(path='./MM2-epoch0.pt',net=None):\n",
    "    net.load_state_dict(torch.load(path))\n",
    "load_net(net=net)"
   ]
  },
  {
   "cell_type": "code",
   "execution_count": 11,
   "metadata": {},
   "outputs": [],
   "source": [
    "def predict(prefix,net,device):\n",
    "    state = net.begin_state(batch_size=1,device=device)\n",
    "    outputs = [prefix[0]]\n",
    "    get_input = lambda:torch.tensor([outputs[-1]],device=device).reshape(1,50,INPUT_SIZE)\n",
    "    for y in prefix[1:]:\n",
    "        _,state = net(get_input(),state)\n",
    "        outputs.append(y)\n",
    "    y_hat,_ = net(get_input(),state)\n",
    "    return y_hat#torch.cat(outputs,dim=1)"
   ]
  },
  {
   "cell_type": "code",
   "execution_count": 14,
   "metadata": {},
   "outputs": [
    {
     "name": "stderr",
     "output_type": "stream",
     "text": [
      "C:\\Users\\92469\\AppData\\Local\\Temp\\ipykernel_16532\\2331197127.py:4: UserWarning: Creating a tensor from a list of numpy.ndarrays is extremely slow. Please consider converting the list to a single numpy.ndarray with numpy.array() before converting to a tensor. (Triggered internally at  C:\\actions-runner\\_work\\pytorch\\pytorch\\builder\\windows\\pytorch\\torch\\csrc\\utils\\tensor_new.cpp:204.)\n",
      "  get_input = lambda:torch.tensor([outputs[-1]],device=device).reshape(1,50,INPUT_SIZE)\n"
     ]
    },
    {
     "name": "stdout",
     "output_type": "stream",
     "text": [
      "[5.52673769 5.52658463 5.52643156 5.52628469 5.52614641 5.52604008\n",
      " 5.52594042 5.5258317  5.52570868 5.52555943 5.52673769 5.52658463\n",
      " 5.52643156 5.52628469 5.52614641 5.52604008 5.52594042 5.5258317\n",
      " 5.52570868 5.52555943 5.52673769 5.52658463 5.52643156 5.52628469\n",
      " 5.52614641 5.52604008 5.52594042 5.5258317  5.52570868 5.52555943\n",
      " 5.52673769 5.52658463 5.52643156 5.52628469 5.52614641 5.52604008\n",
      " 5.52594042 5.5258317  5.52570868 5.52555943 5.52673769 5.52658463\n",
      " 5.52643156 5.52628469 5.52614641 5.52604008 5.52594042 5.5258317\n",
      " 5.52570868 5.52555943 5.52673769 5.52658463 5.52643156 5.52628469\n",
      " 5.52614641 5.52604008 5.52594042 5.5258317  5.52570868 5.52555943\n",
      " 5.52673769 5.52658463 5.52643156 5.52628469 5.52614641 5.52604008\n",
      " 5.52594042 5.5258317  5.52570868 5.52555943 5.52673769 5.52658463\n",
      " 5.52643156 5.52628469 5.52614641 5.52604008 5.52594042 5.5258317\n",
      " 5.52570868 5.52555943 5.52673769 5.52658463 5.52643156 5.52628469\n",
      " 5.52614641 5.52604008 5.52594042 5.5258317  5.52570868 5.52555943\n",
      " 5.52673769 5.52658463 5.52643156 5.52628469 5.52614641 5.52604008\n",
      " 5.52594042 5.5258317  5.52570868 5.52555943 5.52673769 5.52658463\n",
      " 5.52643156 5.52628469 5.52614641 5.52604008 5.52594042 5.5258317\n",
      " 5.52570868 5.52555943]\n",
      "[7.35 7.1  6.86 6.6  6.34 6.07 5.86 5.71 5.7  5.69 5.72 5.8  5.81 5.76\n",
      " 5.69 5.59 5.5  5.48 5.58 5.73 5.89 6.09 6.35 6.66 7.   7.32 7.57 7.73\n",
      " 7.8  7.79 7.73 7.65 7.55 7.52 7.52 7.52 7.51 7.5  7.44 7.27 7.04 6.83\n",
      " 6.65 6.52 6.45 6.44 6.49 6.56 6.54 6.45 6.3  6.05 5.77 5.52 5.33 5.21\n",
      " 5.23 5.47 5.8  6.07 6.09 6.   6.08 6.26 6.48 6.68 6.76 6.76 6.71 6.59\n",
      " 6.46 6.42 6.47 6.64 6.95 7.27 7.47 7.41 7.27 7.11 6.98 6.93 6.92 6.98\n",
      " 7.01 7.01 6.95 6.84 6.73 6.66 6.59 6.53 6.53 6.53 6.53 6.54 6.55 6.57\n",
      " 6.59 6.6  6.63 6.68 6.74 6.78 6.8  6.9  7.   7.05 7.07 7.12]\n"
     ]
    }
   ],
   "source": [
    "test_dataset = WindDataSet('../data/wind_dataset144-2014/wind_dataset144/141.csv',num_steps=50)\n",
    "test_loader = DataLoader(test_dataset,batch_size=1,shuffle=False)\n",
    "preds,truthes=[],[]\n",
    "for batch_idx,(X, y) in enumerate(test_loader):\n",
    "    if batch_idx % 10 == 0:\n",
    "        X = (X.reshape(1,50,INPUT_SIZE).to(torch.float32).numpy())\n",
    "        pred = np.array(predict(X,net.to(device),device).reshape(-1).to('cpu').detach())\n",
    "        truth=y.reshape(-1).detach().numpy()\n",
    "        preds= np.append(preds,pred)\n",
    "        truthes= np.append(truthes,truth)\n",
    "    if batch_idx > 100:\n",
    "        break\n",
    "    \n",
    "print(preds)\n",
    "print(truthes)"
   ]
  },
  {
   "cell_type": "code",
   "execution_count": 16,
   "metadata": {},
   "outputs": [
    {
     "data": {
      "image/png": "[encoded data removed]",
      "text/plain": [
       "<Figure size 1000x600 with 1 Axes>"
      ]
     },
     "metadata": {},
     "output_type": "display_data"
    }
   ],
   "source": [
    "plt.figure(figsize=(10, 6))\n",
    "plt.plot(truth, label='True Values', color='blue')\n",
    "plt.plot(preds[100:], label='Predictions', color='red')\n",
    "plt.title('风速预测',fontproperties=my_font)#\n",
    "plt.xlabel('样本',fontproperties=my_font)\n",
    "plt.ylabel('风速',fontproperties=my_font)\n",
    "plt.legend()\n",
    "plt.show()"
   ]
  },
  {
   "cell_type": "code",
   "execution_count": null,
   "metadata": {},
   "outputs": [],
   "source": []
  }
 ],
 "metadata": {
  "kernelspec": {
   "display_name": "Python 3 (ipykernel)",
   "language": "python",
   "name": "python3"
  },
  "language_info": {
   "codemirror_mode": {
    "name": "ipython",
    "version": 3
   },
   "file_extension": ".py",
   "mimetype": "text/x-python",
   "name": "python",
   "nbconvert_exporter": "python",
   "pygments_lexer": "ipython3",
   "version": "3.9.18"
  }
 },
 "nbformat": 4,
 "nbformat_minor": 4
}
