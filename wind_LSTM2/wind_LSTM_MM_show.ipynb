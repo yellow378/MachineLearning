{
 "cells": [
  {
   "cell_type": "code",
   "execution_count": 1,
   "metadata": {},
   "outputs": [],
   "source": [
    "import pandas as pd\n",
    "import numpy as np\n",
    "from torch.utils.data import Dataset\n",
    "from torch.utils.data import DataLoader\n",
    "import torch.nn.functional as F\n",
    "import torch\n",
    "import torch.nn as nn\n",
    "from sklearn.preprocessing import MinMaxScaler\n",
    "from sklearn.model_selection import train_test_split\n",
    "import matplotlib.pyplot as plt\n",
    "from matplotlib.font_manager import FontProperties\n",
    "my_font = FontProperties(fname=r\"c:\\windows\\fonts\\SimHei.ttf\",size=12)"
   ]
  },
  {
   "cell_type": "code",
   "execution_count": 2,
   "metadata": {},
   "outputs": [],
   "source": [
    "class WindDataSet(Dataset):\n",
    "    def __init__(self,path,num_steps=50):\n",
    "        self.data = []\n",
    "        file = pd.read_csv(path,skiprows=1)\n",
    "        self.feature = np.array(file[[ \"Month\", \"Day\", \"Hour\", \"Minute\", \"surface air pressure (Pa)\", \"relative humidity at 2m (%)\", \"surface precipitation rate (mm/h)\", \"air temperature at 10m (C)\", \"wind direction at 10m (deg)\",\"wind speed at 10m (m/s)\"]])\n",
    "        self.target = np.array(file[\"wind speed at 10m (m/s)\"])\n",
    "        wind_len = len(self.feature)\n",
    "        for i in range(wind_len-num_steps-1):\n",
    "            self.data.append((self.feature[i:i+num_steps],self.target[i+num_steps:i+num_steps+10]))\n",
    "        self.data = self.data[:int(len(self.data)/250)*250]\n",
    "    def __len__(self):\n",
    "        return len(self.data)   \n",
    "    def __getitem__(self,index):\n",
    "        seq,pre = self.data[index]\n",
    "        return seq,pre\n"
   ]
  },
  {
   "cell_type": "code",
   "execution_count": 3,
   "metadata": {},
   "outputs": [
    {
     "data": {
      "text/plain": [
       "device(type='cpu')"
      ]
     },
     "execution_count": 3,
     "metadata": {},
     "output_type": "execute_result"
    }
   ],
   "source": [
    "def try_gpu(i=0):\n",
    "    if torch.cuda.device_count() >= i + 1:\n",
    "        return torch.device(f'cuda:{i}')\n",
    "    return torch.device('cpu')\n",
    "try_gpu()"
   ]
  },
  {
   "cell_type": "code",
   "execution_count": 4,
   "metadata": {},
   "outputs": [],
   "source": [
    "INPUT_SIZE=10\n",
    "HIDDEN_SIZE=50\n",
    "BATCH_SIZE=250\n",
    "OUTPUT_SIZE=10\n",
    "NUM_LAYERS=2\n",
    "\n",
    "class lstm(nn.Module):\n",
    "    def __init__(self):\n",
    "        super(lstm,self).__init__()\n",
    "        self.rnn = nn.LSTM(input_size=INPUT_SIZE,hidden_size=HIDDEN_SIZE,num_layers=NUM_LAYERS)\n",
    "        self.fc = nn.Linear(HIDDEN_SIZE,OUTPUT_SIZE)\n",
    "    def forward(self,x,state):\n",
    "        x = torch.transpose(x,dim0=0,dim1=1).reshape((x.shape[1],-1,INPUT_SIZE))\n",
    "        out,state = self.rnn(x,state)\n",
    "        out = self.fc(out)\n",
    "        return out[-1],state\n",
    "    def begin_state(self,batch_size,device):\n",
    "        return (torch.zeros((2,batch_size,HIDDEN_SIZE),device=device),torch.zeros((2,batch_size, HIDDEN_SIZE), device=device))"
   ]
  },
  {
   "cell_type": "code",
   "execution_count": 5,
   "metadata": {},
   "outputs": [
    {
     "name": "stdout",
     "output_type": "stream",
     "text": [
      "cpu\n"
     ]
    }
   ],
   "source": [
    "net = lstm()\n",
    "lr = 0.001\n",
    "device = try_gpu()\n",
    "print(device)\n",
    "net = net.to(device)\n",
    "optimizer = torch.optim.Adam(net.parameters(),lr=lr)\n",
    "loss = nn.MSELoss()\n",
    "epochs = 10\n",
    "num_steps=50"
   ]
  },
  {
   "cell_type": "code",
   "execution_count": 6,
   "metadata": {},
   "outputs": [],
   "source": [
    "def grad_clipping(net,theta):\n",
    "    if isinstance(net,nn.Module):\n",
    "        params = [p for p in net.parameters() if p.requires_grad]\n",
    "    else:\n",
    "        params = net.params\n",
    "    norm = torch.sqrt(sum(torch.sum((p.grad ** 2)) for p in params))\n",
    "    if norm > theta:\n",
    "        for param in params:\n",
    "            param.grad[:] *= theta/norm"
   ]
  },
  {
   "cell_type": "code",
   "execution_count": 7,
   "metadata": {},
   "outputs": [],
   "source": [
    "\n",
    "def train_epoch(epoch,net,train_loader,device,train_loss):\n",
    "    net = net.to(device)\n",
    "    net.train()\n",
    "    runing_loss=0\n",
    "    for batch_idx,(X,y) in enumerate(train_loader):\n",
    "        state=net.begin_state(batch_size=BATCH_SIZE, device=device)\n",
    "        for s in state:\n",
    "            s.detach_()\n",
    "        optimizer.zero_grad()\n",
    "        X,y = X.to(torch.float32).to(device),y.to(torch.float32).to(device)\n",
    "        y_hat,state = net(X,state)\n",
    "        l = loss(y_hat,y).mean()\n",
    "        l.backward()\n",
    "        grad_clipping(net, 1)\n",
    "        optimizer.step()\n",
    "        runing_loss += l.item()\n",
    "        if batch_idx%400 == 399:\n",
    "            print(f'epoch:{epoch+1},batch_idx:{batch_idx+1},running_loss:{runing_loss/400}')\n",
    "            train_loss.append(l.item())\n",
    "            runing_loss=0\n"
   ]
  },
  {
   "cell_type": "code",
   "execution_count": 8,
   "metadata": {},
   "outputs": [],
   "source": [
    "def save_net(path = 'wind_10input.pt', net=None):\n",
    "    torch.save(net.state_dict(),path)\n",
    "# save_net(net=net)"
   ]
  },
  {
   "cell_type": "code",
   "execution_count": 9,
   "metadata": {},
   "outputs": [],
   "source": [
    "def train(epochs):\n",
    "    train_loss = []\n",
    "    for epoch in range(epochs):\n",
    "        for i in range(120):\n",
    "            dataset = WindDataSet(f'./datasets/{i}.csv',num_steps)\n",
    "            train_loader = DataLoader(dataset,batch_size=BATCH_SIZE,shuffle=False,num_workers=0)\n",
    "            train_epoch(epoch,net,train_loader,device,train_loss)\n",
    "        print(f'###epoch:{epoch+1},train_loss:{train_loss[-1]}')\n",
    "        save_net(path=f\"MM-epoch{epoch}.pt\",net=net.to('cpu'))\n",
    "        #net = net.to(device)\n",
    "    "
   ]
  },
  {
   "cell_type": "code",
   "execution_count": null,
   "metadata": {},
   "outputs": [
    {
     "name": "stdout",
     "output_type": "stream",
     "text": [
      "epoch:1,batch_idx:400,running_loss:5.934961936920882\n",
      "epoch:1,batch_idx:400,running_loss:7.028252300769091\n",
      "epoch:1,batch_idx:400,running_loss:5.918150629848242\n",
      "epoch:1,batch_idx:400,running_loss:7.172445548325777\n",
      "epoch:1,batch_idx:400,running_loss:9.112944650053977\n",
      "epoch:1,batch_idx:400,running_loss:10.413066191971302\n",
      "epoch:1,batch_idx:400,running_loss:10.991364172995091\n",
      "epoch:1,batch_idx:400,running_loss:11.313820707648993\n",
      "epoch:1,batch_idx:400,running_loss:11.716999898403882\n",
      "epoch:1,batch_idx:400,running_loss:12.284496067687869\n",
      "epoch:1,batch_idx:400,running_loss:12.820943886637687\n",
      "epoch:1,batch_idx:400,running_loss:13.345446190237999\n",
      "epoch:1,batch_idx:400,running_loss:9.602950816601515\n",
      "epoch:1,batch_idx:400,running_loss:10.022972505539656\n",
      "epoch:1,batch_idx:400,running_loss:10.234902490675449\n",
      "epoch:1,batch_idx:400,running_loss:10.521180244982242\n",
      "epoch:1,batch_idx:400,running_loss:10.880924265086652\n",
      "epoch:1,batch_idx:400,running_loss:11.113455261588097\n",
      "epoch:1,batch_idx:400,running_loss:11.392467964738607\n",
      "epoch:1,batch_idx:400,running_loss:11.699997955709696\n",
      "epoch:1,batch_idx:400,running_loss:11.661887190639973\n",
      "epoch:1,batch_idx:400,running_loss:11.917902788370847\n",
      "epoch:1,batch_idx:400,running_loss:12.200831740573049\n",
      "epoch:1,batch_idx:400,running_loss:12.30455641977489\n",
      "epoch:1,batch_idx:400,running_loss:10.879165366292\n",
      "epoch:1,batch_idx:400,running_loss:11.051855370551348\n",
      "epoch:1,batch_idx:400,running_loss:11.406285140663385\n",
      "epoch:1,batch_idx:400,running_loss:11.753092807084322\n",
      "epoch:1,batch_idx:400,running_loss:11.765007229596376\n",
      "epoch:1,batch_idx:400,running_loss:11.506260467469692\n",
      "epoch:1,batch_idx:400,running_loss:11.932340634912252\n",
      "epoch:1,batch_idx:400,running_loss:12.320316832661629\n",
      "epoch:1,batch_idx:400,running_loss:11.702722811549902\n",
      "epoch:1,batch_idx:400,running_loss:11.545089330375195\n",
      "epoch:1,batch_idx:400,running_loss:12.023929806500673\n",
      "epoch:1,batch_idx:400,running_loss:11.960227107927203\n",
      "epoch:1,batch_idx:400,running_loss:12.822184002101421\n",
      "epoch:1,batch_idx:400,running_loss:12.652691198289395\n",
      "epoch:1,batch_idx:400,running_loss:12.33232240051031\n",
      "epoch:1,batch_idx:400,running_loss:12.354185979366303\n",
      "epoch:1,batch_idx:400,running_loss:12.230498988330364\n",
      "epoch:1,batch_idx:400,running_loss:12.036507437229156\n",
      "epoch:1,batch_idx:400,running_loss:12.554776685237885\n",
      "epoch:1,batch_idx:400,running_loss:12.955952969491483\n",
      "epoch:1,batch_idx:400,running_loss:12.072003971189261\n",
      "epoch:1,batch_idx:400,running_loss:11.627717838287353\n",
      "epoch:1,batch_idx:400,running_loss:12.176477210223675\n",
      "epoch:1,batch_idx:400,running_loss:12.16544252216816\n",
      "epoch:1,batch_idx:400,running_loss:13.558426252305507\n",
      "epoch:1,batch_idx:400,running_loss:13.36436697781086\n",
      "epoch:1,batch_idx:400,running_loss:13.137987646758557\n",
      "epoch:1,batch_idx:400,running_loss:13.136877913326025\n",
      "epoch:1,batch_idx:400,running_loss:12.813254268318415\n",
      "epoch:1,batch_idx:400,running_loss:12.44569044739008\n",
      "epoch:1,batch_idx:400,running_loss:12.675264725089074\n",
      "epoch:1,batch_idx:400,running_loss:12.824785278290511\n",
      "epoch:1,batch_idx:400,running_loss:12.464351970106364\n",
      "epoch:1,batch_idx:400,running_loss:12.014559074938298\n",
      "epoch:1,batch_idx:400,running_loss:12.21511182025075\n",
      "epoch:1,batch_idx:400,running_loss:12.168149614036084\n",
      "epoch:1,batch_idx:400,running_loss:13.777303780317306\n",
      "epoch:1,batch_idx:400,running_loss:13.54264350026846\n",
      "epoch:1,batch_idx:400,running_loss:13.31806657359004\n",
      "epoch:1,batch_idx:400,running_loss:13.65311614319682\n",
      "epoch:1,batch_idx:400,running_loss:13.677910611778497\n",
      "epoch:1,batch_idx:400,running_loss:13.210763514190912\n",
      "epoch:1,batch_idx:400,running_loss:12.760062081813812\n",
      "epoch:1,batch_idx:400,running_loss:12.716290559321642\n",
      "epoch:1,batch_idx:400,running_loss:12.625449128001929\n",
      "epoch:1,batch_idx:400,running_loss:12.353057675957679\n",
      "epoch:1,batch_idx:400,running_loss:12.076900488138198\n",
      "epoch:1,batch_idx:400,running_loss:12.001765644848346\n",
      "epoch:1,batch_idx:400,running_loss:13.894354295432567\n",
      "epoch:1,batch_idx:400,running_loss:14.00980614721775\n",
      "epoch:1,batch_idx:400,running_loss:13.520840790569782\n",
      "epoch:1,batch_idx:400,running_loss:13.600923689305782\n",
      "epoch:1,batch_idx:400,running_loss:13.970864146649838\n",
      "epoch:1,batch_idx:400,running_loss:13.812575879395007\n",
      "epoch:1,batch_idx:400,running_loss:13.412876708954572\n",
      "epoch:1,batch_idx:400,running_loss:13.120688201636076\n",
      "epoch:1,batch_idx:400,running_loss:12.79429835319519\n",
      "epoch:1,batch_idx:400,running_loss:12.485841916799545\n",
      "epoch:1,batch_idx:400,running_loss:12.22495440095663\n",
      "epoch:1,batch_idx:400,running_loss:12.074110275059939\n",
      "epoch:1,batch_idx:400,running_loss:13.591238496154547\n",
      "epoch:1,batch_idx:400,running_loss:14.385456551909447\n",
      "epoch:1,batch_idx:400,running_loss:14.143155675381422\n",
      "epoch:1,batch_idx:400,running_loss:13.844551436007023\n",
      "epoch:1,batch_idx:400,running_loss:14.198596297800542\n",
      "epoch:1,batch_idx:400,running_loss:14.32224295437336\n",
      "epoch:1,batch_idx:400,running_loss:13.862335886359215\n",
      "epoch:1,batch_idx:400,running_loss:13.41283015012741\n",
      "epoch:1,batch_idx:400,running_loss:13.131475775241851\n",
      "epoch:1,batch_idx:400,running_loss:12.68750638306141\n",
      "epoch:1,batch_idx:400,running_loss:12.245241297781467\n",
      "epoch:1,batch_idx:400,running_loss:12.026891147196293\n",
      "epoch:1,batch_idx:400,running_loss:13.563324444890021\n",
      "epoch:1,batch_idx:400,running_loss:13.998504133075476\n",
      "epoch:1,batch_idx:400,running_loss:14.394179524481297\n",
      "epoch:1,batch_idx:400,running_loss:14.29178822234273\n",
      "epoch:1,batch_idx:400,running_loss:14.341852110922337\n",
      "epoch:1,batch_idx:400,running_loss:14.305231575667857\n",
      "epoch:1,batch_idx:400,running_loss:13.863155543208123\n",
      "epoch:1,batch_idx:400,running_loss:13.393814502954482\n",
      "epoch:1,batch_idx:400,running_loss:13.263785249590875\n",
      "epoch:1,batch_idx:400,running_loss:12.894205713570118\n",
      "epoch:1,batch_idx:400,running_loss:12.441768272221088\n",
      "epoch:1,batch_idx:400,running_loss:12.051361644864082\n",
      "epoch:1,batch_idx:400,running_loss:13.703201861083507\n",
      "epoch:1,batch_idx:400,running_loss:13.69377535045147\n",
      "epoch:1,batch_idx:400,running_loss:14.277204957306385\n",
      "epoch:1,batch_idx:400,running_loss:14.335588594079018\n",
      "epoch:1,batch_idx:400,running_loss:14.145145234763623\n",
      "epoch:1,batch_idx:400,running_loss:13.983138948082924\n",
      "epoch:1,batch_idx:400,running_loss:13.690097099244595\n",
      "epoch:1,batch_idx:400,running_loss:13.330873682498932\n",
      "epoch:1,batch_idx:400,running_loss:13.081713280379772\n",
      "epoch:1,batch_idx:400,running_loss:12.800037680864333\n",
      "epoch:1,batch_idx:400,running_loss:12.428348366618156\n",
      "epoch:1,batch_idx:400,running_loss:12.051177326738834\n",
      "###epoch:1,train_loss:6.725133419036865\n",
      "epoch:2,batch_idx:400,running_loss:5.83384700588882\n",
      "epoch:2,batch_idx:400,running_loss:7.041436829566956\n",
      "epoch:2,batch_idx:400,running_loss:5.9258396980166435\n",
      "epoch:2,batch_idx:400,running_loss:7.179049288630486\n",
      "epoch:2,batch_idx:400,running_loss:9.121867030858994\n"
     ]
    }
   ],
   "source": [
    "train(epochs)"
   ]
  },
  {
   "cell_type": "code",
   "execution_count": 10,
   "metadata": {},
   "outputs": [],
   "source": [
    "def load_net(path='./MM-epoch1.pt',net=None):\n",
    "    net.load_state_dict(torch.load(path))\n",
    "load_net(net=net)"
   ]
  },
  {
   "cell_type": "code",
   "execution_count": 11,
   "metadata": {},
   "outputs": [],
   "source": [
    "def predict(prefix,net,device):\n",
    "    state = net.begin_state(batch_size=1,device=device)\n",
    "    outputs = [prefix[0]]\n",
    "    get_input = lambda:torch.tensor([outputs[-1]],device=device).reshape(1,50,INPUT_SIZE)\n",
    "    for y in prefix[1:]:\n",
    "        _,state = net(get_input(),state)\n",
    "        outputs.append(y)\n",
    "    y_hat,_ = net(get_input(),state)\n",
    "    return y_hat#torch.cat(outputs,dim=1)"
   ]
  },
  {
   "cell_type": "code",
   "execution_count": 12,
   "metadata": {},
   "outputs": [
    {
     "name": "stdout",
     "output_type": "stream",
     "text": [
      "[5.90943146 5.90657902 5.90373707 5.90099239 5.89846802 5.89622879\n",
      " 5.89416742 5.89212179 5.89005327 5.88808107 5.90943146 5.90657902\n",
      " 5.90373707 5.90099239 5.89846802 5.89622879 5.89416742 5.89212179\n",
      " 5.89005327 5.88808107 5.90943146 5.90657902 5.90373707 5.90099239\n",
      " 5.89846802 5.89622879 5.89416742 5.89212179 5.89005327 5.88808107\n",
      " 5.90943146 5.90657902 5.90373707 5.90099239 5.89846802 5.89622879\n",
      " 5.89416742 5.89212179 5.89005327 5.88808107 5.90943146 5.90657902\n",
      " 5.90373707 5.90099239 5.89846802 5.89622879 5.89416742 5.89212179\n",
      " 5.89005327 5.88808107 5.90943146 5.90657902 5.90373707 5.90099239\n",
      " 5.89846802 5.89622879 5.89416742 5.89212179 5.89005327 5.88808107\n",
      " 5.90943146 5.90657902 5.90373707 5.90099239 5.89846802 5.89622879\n",
      " 5.89416742 5.89212179 5.89005327 5.88808107 5.90943146 5.90657902\n",
      " 5.90373707 5.90099239 5.89846802 5.89622879 5.89416742 5.89212179\n",
      " 5.89005327 5.88808107 5.90943146 5.90657902 5.90373707 5.90099239\n",
      " 5.89846802 5.89622879 5.89416742 5.89212179 5.89005327 5.88808107\n",
      " 5.90943146 5.90657902 5.90373707 5.90099239 5.89846802 5.89622879\n",
      " 5.89416742 5.89212179 5.89005327 5.88808107 5.90943146 5.90657902\n",
      " 5.90373707 5.90099239 5.89846802 5.89622879 5.89416742 5.89212179\n",
      " 5.89005327 5.88808107]\n",
      "[7.35 7.1  6.86 6.6  6.34 6.07 5.86 5.71 5.7  5.69 5.72 5.8  5.81 5.76\n",
      " 5.69 5.59 5.5  5.48 5.58 5.73 5.89 6.09 6.35 6.66 7.   7.32 7.57 7.73\n",
      " 7.8  7.79 7.73 7.65 7.55 7.52 7.52 7.52 7.51 7.5  7.44 7.27 7.04 6.83\n",
      " 6.65 6.52 6.45 6.44 6.49 6.56 6.54 6.45 6.3  6.05 5.77 5.52 5.33 5.21\n",
      " 5.23 5.47 5.8  6.07 6.09 6.   6.08 6.26 6.48 6.68 6.76 6.76 6.71 6.59\n",
      " 6.46 6.42 6.47 6.64 6.95 7.27 7.47 7.41 7.27 7.11 6.98 6.93 6.92 6.98\n",
      " 7.01 7.01 6.95 6.84 6.73 6.66 6.59 6.53 6.53 6.53 6.53 6.54 6.55 6.57\n",
      " 6.59 6.6  6.63 6.68 6.74 6.78 6.8  6.9  7.   7.05 7.07 7.12]\n"
     ]
    },
    {
     "name": "stderr",
     "output_type": "stream",
     "text": [
      "C:\\Users\\92469\\AppData\\Local\\Temp\\ipykernel_16980\\2331197127.py:4: UserWarning: Creating a tensor from a list of numpy.ndarrays is extremely slow. Please consider converting the list to a single numpy.ndarray with numpy.array() before converting to a tensor. (Triggered internally at  C:\\actions-runner\\_work\\pytorch\\pytorch\\builder\\windows\\pytorch\\torch\\csrc\\utils\\tensor_new.cpp:204.)\n",
      "  get_input = lambda:torch.tensor([outputs[-1]],device=device).reshape(1,50,INPUT_SIZE)\n"
     ]
    }
   ],
   "source": [
    "test_dataset = WindDataSet('../data/wind_dataset144-2014/wind_dataset144/141.csv',num_steps=50)\n",
    "test_loader = DataLoader(test_dataset,batch_size=1,shuffle=False)\n",
    "preds,truthes=[],[]\n",
    "for batch_idx,(X, y) in enumerate(test_loader):\n",
    "    if batch_idx % 10 == 0:\n",
    "        X = (X.reshape(1,50,INPUT_SIZE).to(torch.float32).numpy())\n",
    "        pred = np.array(predict(X,net.to(device),device).reshape(-1).to('cpu').detach())\n",
    "        truth=y.reshape(-1).detach().numpy()\n",
    "        preds= np.append(preds,pred)\n",
    "        truthes= np.append(truthes,truth)\n",
    "    if batch_idx > 100:\n",
    "        break\n",
    "    \n",
    "print(preds)\n",
    "print(truthes)\n",
    "\n"
   ]
  },
  {
   "cell_type": "code",
   "execution_count": 13,
   "metadata": {},
   "outputs": [
    {
     "data": {
      "image/png": "[encoded data removed]",
      "text/plain": [
       "<Figure size 1000x600 with 1 Axes>"
      ]
     },
     "metadata": {},
     "output_type": "display_data"
    }
   ],
   "source": [
    "plt.figure(figsize=(10, 6))\n",
    "plt.plot(truth, label='True Values', color='blue')\n",
    "plt.plot(preds[100:], label='Predictions', color='red')\n",
    "plt.title('风速预测',fontproperties=my_font)#\n",
    "plt.xlabel('样本',fontproperties=my_font)\n",
    "plt.ylabel('风速',fontproperties=my_font)\n",
    "plt.legend()\n",
    "plt.show()"
   ]
  },
  {
   "cell_type": "code",
   "execution_count": null,
   "metadata": {},
   "outputs": [],
   "source": []
  }
 ],
 "metadata": {
  "kernelspec": {
   "display_name": "Python 3 (ipykernel)",
   "language": "python",
   "name": "python3"
  },
  "language_info": {
   "codemirror_mode": {
    "name": "ipython",
    "version": 3
   },
   "file_extension": ".py",
   "mimetype": "text/x-python",
   "name": "python",
   "nbconvert_exporter": "python",
   "pygments_lexer": "ipython3",
   "version": "3.9.18"
  }
 },
 "nbformat": 4,
 "nbformat_minor": 4
}
