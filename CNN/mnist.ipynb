{
 "cells": [
  {
   "cell_type": "code",
   "execution_count": 1,
   "metadata": {},
   "outputs": [],
   "source": [
    "import numpy as np\n",
    "import pandas as pd\n",
    "import torch.nn as nn\n",
    "import torch.nn.functional as F\n",
    "import torch.optim as optim\n",
    "import torchvision\n",
    "import torch\n",
    "from torch.utils.data import DataLoader\n",
    "import matplotlib.pyplot as plt"
   ]
  },
  {
   "cell_type": "code",
   "execution_count": 2,
   "metadata": {},
   "outputs": [],
   "source": [
    "# constant\n",
    "epochs = 5\n",
    "batch_size = 64\n",
    "lr = 0.001"
   ]
  },
  {
   "cell_type": "code",
   "execution_count": 3,
   "metadata": {},
   "outputs": [],
   "source": [
    "# 加载数据\n",
    "train_loader = DataLoader(torchvision.datasets.MNIST('./data/',train=True,download=True,\n",
    "                                                     transform=torchvision.transforms.Compose([\n",
    "                                                         torchvision.transforms.ToTensor(),\n",
    "                                                         torchvision.transforms.Normalize((0.1307,),(0.3081,))\n",
    "                                                     ])),batch_size=batch_size,shuffle=True)\n",
    "test_loader = DataLoader(torchvision.datasets.MNIST('./data/',train=False,download=True,\n",
    "                                                     transform=torchvision.transforms.Compose([\n",
    "                                                         torchvision.transforms.ToTensor(),\n",
    "                                                         torchvision.transforms.Normalize((0.1307,),(0.3081,))\n",
    "                                                     ])),batch_size=batch_size,shuffle=True)"
   ]
  },
  {
   "cell_type": "code",
   "execution_count": 4,
   "metadata": {},
   "outputs": [
    {
     "name": "stdout",
     "output_type": "stream",
     "text": [
      "torch.Size([1, 28, 28])\n",
      "真实值： tensor(7)\n",
      "\n"
     ]
    },
    {
     "data": {
      "image/png": "[encoded data removed]",
      "text/plain": [
       "<Figure size 640x480 with 1 Axes>"
      ]
     },
     "metadata": {},
     "output_type": "display_data"
    }
   ],
   "source": [
    "def display_a_array(pic):\n",
    "    plt.imshow(np.array(pic.reshape(28,28)))\n",
    "    plt.show()\n",
    "pic_data = next(iter(train_loader))\n",
    "pic = pic_data[0][0]\n",
    "label = pic_data[1][0]\n",
    "print(pic.shape)\n",
    "print(\"真实值：\",label)\n",
    "print()\n",
    "display_a_array(pic)"
   ]
  },
  {
   "cell_type": "code",
   "execution_count": 5,
   "metadata": {},
   "outputs": [],
   "source": [
    "# 定义网络\n",
    "class Net(nn.Module):\n",
    "    def __init__(self):\n",
    "        super(Net,self).__init__()\n",
    "        self.conv1 = nn.Conv2d(1,10,kernel_size=3,padding=1) #28 28 10\n",
    "        self.pool1 = nn.MaxPool2d(kernel_size=2)               #14 14 10\n",
    "        self.relu1 = nn.ReLU()\n",
    "        self.conv2 = nn.Conv2d(10,20,kernel_size=3,padding=1)   #14 14 20\n",
    "        self.conv2_drop = nn.Dropout2d()\n",
    "        self.pool2 = nn.MaxPool2d(kernel_size=2)                #7 7 20\n",
    "        self.conv3 = nn.Conv2d(20,10,kernel_size=1)             #7 7 10\n",
    "        self.relu2 = nn.ReLU()\n",
    "        self.flatten = nn.Flatten()\n",
    "        self.fc1 = nn.Linear(490,100)                           #7*7*10 = 490\n",
    "        self.relu3 = nn.ReLU()\n",
    "        self.fc2 = nn.Linear(100,10)\n",
    "        self.softmax = nn.Softmax(dim=1)\n",
    "    def forward(self,x):\n",
    "        h = self.conv1(x)\n",
    "        h = self.pool1(h)\n",
    "        h = self.relu1(h)\n",
    "        h = self.conv2(h)\n",
    "        h = self.conv2_drop(h)\n",
    "        h = self.pool2(h)\n",
    "        h = self.conv3(h)\n",
    "        h = self.relu2(h)\n",
    "        h = self.flatten(h)\n",
    "        h = self.fc1(h)\n",
    "        h = self.relu3(h)\n",
    "        h = self.fc2(h)\n",
    "        return self.softmax(h)"
   ]
  },
  {
   "cell_type": "code",
   "execution_count": 6,
   "metadata": {},
   "outputs": [],
   "source": [
    "def evaluate_accuracy(net,data_iter):\n",
    "    net.eval()\n",
    "    total = 0\n",
    "    correct = 0\n",
    "    with torch.no_grad():\n",
    "        for X, y in data_iter:\n",
    "            y_hat = net(X)\n",
    "            _,prediction = torch.max(y_hat,1)\n",
    "            total =  total + y.size(0)\n",
    "            correct = correct + (prediction == y).sum().item()\n",
    "    return correct,total,100.0*correct/total\n",
    "        "
   ]
  },
  {
   "cell_type": "code",
   "execution_count": 7,
   "metadata": {},
   "outputs": [],
   "source": [
    "net = Net()\n",
    "optimizer = optim.Adam(net.parameters(),lr=lr)\n",
    "loss = nn.CrossEntropyLoss()\n",
    "train_loss = []\n",
    "train_acc = []\n",
    "test_acc = []"
   ]
  },
  {
   "cell_type": "code",
   "execution_count": 47,
   "metadata": {},
   "outputs": [
    {
     "name": "stdout",
     "output_type": "stream",
     "text": [
      "epoch:1,batch_idx:100,running_loss:2.0509841990470887\n",
      "epoch:1,batch_idx:200,running_loss:1.6388540053367615\n",
      "epoch:1,batch_idx:300,running_loss:1.5813642847537994\n",
      "epoch:1,batch_idx:400,running_loss:1.5554297471046448\n",
      "epoch:1,batch_idx:500,running_loss:1.5471946048736571\n",
      "epoch:1,batch_idx:600,running_loss:1.5426611280441285\n",
      "epoch:1,batch_idx:700,running_loss:1.535178586244583\n",
      "epoch:1,batch_idx:800,running_loss:1.5287524628639222\n",
      "epoch:1,batch_idx:900,running_loss:1.5269132137298584\n",
      "###epoch:1,train_loss:1.5051910877227783,train_acc:96.875,test_acc:94.37\n",
      "epoch:2,batch_idx:100,running_loss:1.5265715420246124\n",
      "epoch:2,batch_idx:200,running_loss:1.524893548488617\n",
      "epoch:2,batch_idx:300,running_loss:1.5253480887413025\n",
      "epoch:2,batch_idx:400,running_loss:1.5206361198425293\n",
      "epoch:2,batch_idx:500,running_loss:1.5208510196208953\n",
      "epoch:2,batch_idx:600,running_loss:1.5186925220489502\n",
      "epoch:2,batch_idx:700,running_loss:1.5141627061367036\n",
      "epoch:2,batch_idx:800,running_loss:1.5115256702899933\n",
      "epoch:2,batch_idx:900,running_loss:1.5175657212734222\n",
      "###epoch:2,train_loss:1.522164225578308,train_acc:93.75,test_acc:95.86\n",
      "epoch:3,batch_idx:100,running_loss:1.5063496732711792\n",
      "epoch:3,batch_idx:200,running_loss:1.5079538691043854\n",
      "epoch:3,batch_idx:300,running_loss:1.5079352104663848\n",
      "epoch:3,batch_idx:400,running_loss:1.5054223489761354\n",
      "epoch:3,batch_idx:500,running_loss:1.5070940458774567\n",
      "epoch:3,batch_idx:600,running_loss:1.5103397810459136\n",
      "epoch:3,batch_idx:700,running_loss:1.5090553975105285\n",
      "epoch:3,batch_idx:800,running_loss:1.505211125612259\n",
      "epoch:3,batch_idx:900,running_loss:1.5072430419921874\n",
      "###epoch:3,train_loss:1.5042802095413208,train_acc:96.875,test_acc:96.36\n",
      "epoch:4,batch_idx:100,running_loss:1.5010173845291137\n",
      "epoch:4,batch_idx:200,running_loss:1.5000074994564057\n",
      "epoch:4,batch_idx:300,running_loss:1.5010801136493683\n",
      "epoch:4,batch_idx:400,running_loss:1.501923005580902\n",
      "epoch:4,batch_idx:500,running_loss:1.498380092382431\n",
      "epoch:4,batch_idx:600,running_loss:1.5000040435791016\n",
      "epoch:4,batch_idx:700,running_loss:1.5040632247924806\n",
      "epoch:4,batch_idx:800,running_loss:1.5027545034885406\n",
      "epoch:4,batch_idx:900,running_loss:1.5006781530380249\n",
      "###epoch:4,train_loss:1.557859182357788,train_acc:90.625,test_acc:96.97\n",
      "epoch:5,batch_idx:100,running_loss:1.4969938588142395\n",
      "epoch:5,batch_idx:200,running_loss:1.497761390209198\n",
      "epoch:5,batch_idx:300,running_loss:1.5009467780590058\n",
      "epoch:5,batch_idx:400,running_loss:1.4974321520328522\n",
      "epoch:5,batch_idx:500,running_loss:1.500062996149063\n",
      "epoch:5,batch_idx:600,running_loss:1.5011603593826295\n",
      "epoch:5,batch_idx:700,running_loss:1.4940386617183685\n",
      "epoch:5,batch_idx:800,running_loss:1.4933155500888824\n",
      "epoch:5,batch_idx:900,running_loss:1.4994262528419495\n",
      "###epoch:5,train_loss:1.5228955745697021,train_acc:93.75,test_acc:97.19\n"
     ]
    }
   ],
   "source": [
    "def train_one_epoch(epoch):\n",
    "    net.train()\n",
    "    runing_loss = 0\n",
    "    correct = 0\n",
    "    total = 0\n",
    "    for batch_idx,(X,y) in enumerate(train_loader):\n",
    "        optimizer.zero_grad()\n",
    "        y_hat = net(X)  \n",
    "        l = loss(y_hat,y)\n",
    "        l.backward()\n",
    "        optimizer.step()\n",
    "\n",
    "        runing_loss += l.item()\n",
    "        if batch_idx%100 == 99:\n",
    "            print(f'epoch:{epoch+1},batch_idx:{batch_idx+1},running_loss:{runing_loss/100}')\n",
    "            runing_loss = 0\n",
    "        train_loss.append(l.item())\n",
    "\n",
    "        \n",
    "        _,prediction = torch.max(y_hat,1)\n",
    "        total += y.size(0)\n",
    "        correct += (prediction == y).sum().item()\n",
    "    train_acc.append(100*correct/total)\n",
    "for epoch in range(epochs):\n",
    "    train_one_epoch(epoch)\n",
    "    test_acc.append(evaluate_accuracy(net,test_loader)[2])\n",
    "    print(f'###epoch:{epoch+1},train_loss:{train_loss[-1]},train_acc:{train_acc[-1]},test_acc:{test_acc[-1]}')"
   ]
  },
  {
   "cell_type": "code",
   "execution_count": 44,
   "metadata": {},
   "outputs": [
    {
     "name": "stdout",
     "output_type": "stream",
     "text": [
      "58281 60000 97.135\n",
      "9705 10000 97.05\n"
     ]
    }
   ],
   "source": [
    "a,b,c = evaluate_accuracy(net,train_loader)\n",
    "print(a,b,c)\n",
    "a,b,c = evaluate_accuracy(net,test_loader)\n",
    "print(a,b,c)"
   ]
  },
  {
   "cell_type": "code",
   "execution_count": 49,
   "metadata": {},
   "outputs": [],
   "source": [
    "def save_net(path = 'mnist.pt', net=None):\n",
    "    torch.save(net.state_dict(),path)\n",
    "save_net('epoch5,lr0,01-2.pt',net)"
   ]
  },
  {
   "cell_type": "markdown",
   "metadata": {},
   "source": []
  },
  {
   "cell_type": "code",
   "execution_count": 17,
   "metadata": {},
   "outputs": [],
   "source": [
    "def load_net(path='mnist.pt',net=None):\n",
    "    net.load_state_dict(torch.load(path))\n",
    "load_net('epoch5,lr0,01.pt',net)"
   ]
  },
  {
   "cell_type": "code",
   "execution_count": 9,
   "metadata": {},
   "outputs": [
    {
     "data": {
      "text/plain": [
       "array([[  0,   0,   0,   0,   0,   0,   0,   0,   0,   0,   0,   0,   0,\n",
       "          0,   0,   0,   0,   0,   0,   0,   0,   0,   0,   0,   0,   0,\n",
       "          0,   0],\n",
       "       [  0,   0,   0,   0,   0,   0,   0,   0,   0,   0,   0,   0,   0,\n",
       "          0,   0,   0,   0,   0,   0,   0,   0,   0,   0,   0,   0,   0,\n",
       "          0,   0],\n",
       "       [  0,   0,   0,   0,   0,   0,   0,   0,   0,   0,   0,   0,   0,\n",
       "          0,   0,   0,   0,   0,   0,   0,   0,   0,   0,   0,   0,   0,\n",
       "          0,   0],\n",
       "       [  0,   0,   0,   0,   0,   0,   0,   0,   0,   0,   0,   0,   0,\n",
       "          0,   0,   0,   0,   0,   0,   0,   0,   0,   0,   0,   0,   0,\n",
       "          0,   0],\n",
       "       [  0,   0,   0,   0,   0,   0,   0,   0,   0,   0,   0,   0,   0,\n",
       "          0,   0,   0,   0,   0,   0,   0,   0,   0,   0,   0,   0,   0,\n",
       "          0,   0],\n",
       "       [  0,   0,   0,   0,   0,   0,   0,   0,   0,   0,   0,   0,   0,\n",
       "          0,   0,   0,   0,   0,   0,   0,   0,   0,   0,   0,   0,   0,\n",
       "          0,   0],\n",
       "       [  0,   0,   0,   0,   0,   0,   0,   0,   0,   0,   0, 255,   0,\n",
       "          0,   0,   0,   0,   0,   0,   0,   0,   0,   0,   0,   0,   0,\n",
       "          0,   0],\n",
       "       [  0,   0,   0,   0,   0,   0,   0,   0,   0,   0,   0, 255,   0,\n",
       "          0,   0,   0,  16,   0,   0, 255, 255, 255,   0,   0,   0,   0,\n",
       "          0,   0],\n",
       "       [  0,   0,   0,   0,   0,   0,   0,   0,   0,   0,   0, 255,   0,\n",
       "          0,   0, 255, 255, 255, 255, 255,   0,   0,   0,   0,   0,   0,\n",
       "          0,   0],\n",
       "       [  0,   0,   0,   0,   0,   0,   0,   0,   0,   0,   0, 255,   0,\n",
       "        255, 255, 255,   0,   0,   0,   0,   0,   0,   0,   0,   0,   0,\n",
       "          0,   0],\n",
       "       [  0,   0,   0,   0,   0,   0,   0,   0,   0,   0,   0, 255, 255,\n",
       "          0,   0,   0,   0,   0,   0,   0,   0,   0,   0,   0,   0,   0,\n",
       "          0,   0],\n",
       "       [  0,   0,   0,   0,   0,   0,   0,   0,   0,   0, 255,   0,   0,\n",
       "          0,   0,   0,   0,   0,   0,   0,   0,   0,   0,   0,   0,   0,\n",
       "          0,   0],\n",
       "       [  0,   0,   0,   0,   0,   0,   0,   0,   0,   0, 255,   0,   0,\n",
       "          0,   0,   0,   0,   0,   0,   0,   0,   0,   0,   0,   0,   0,\n",
       "          0,   0],\n",
       "       [  0,   0,   0,   0,   0,   0,   0,   0,   0,   0, 255, 255, 255,\n",
       "        255, 255, 255, 255, 255,   0,   0,   0,   0,   0,   0,   0,   0,\n",
       "          0,   0],\n",
       "       [  0,   0,   0,   0,   0,   0,   0,   0,   0,   0,   0,   0,   0,\n",
       "          0,   0,   0,   0,   0, 255, 255,   0,   0,   0,   0,   0,   0,\n",
       "          0,   0],\n",
       "       [  0,   0,   0,   0,   0,   0,   0,   0,   0,   0,   0,   0,   0,\n",
       "          0,   0,   0,   0,   0,   0, 255, 255, 255,   0,   0,   0,   0,\n",
       "          0,   0],\n",
       "       [  0,   0,   0,   0,   0,   0,   0,   0,   0,   0,   0,   0,   0,\n",
       "          0,   0,   0,   0,   0,   0,   0,   0, 255, 255,   0,   0,   0,\n",
       "          0,   0],\n",
       "       [  0,   0,   0,   0,   0,   0,   0,   0,   0,   0,   0,   0,   0,\n",
       "          0,   0,   0,   0,   0,   0,   0,   0,   0, 255,   0,   0,   0,\n",
       "          0,   0],\n",
       "       [  0,   0,   0,   0,   0,   0,   0,   0,   0,   0,   0,   0,   0,\n",
       "          0,   0,   0,   0,   0,   0,   0,   0,   0, 255,   0,   0,   0,\n",
       "          0,   0],\n",
       "       [  0,   0,   0,   0,   0,   0,   0,   0,   0,   0,   0, 255, 255,\n",
       "          0,   0,   0,   0,   0,   0,   0,   0,   0, 255,   0,   0,   0,\n",
       "          0,   0],\n",
       "       [  0,   0,   0,   0,   0,   0,   0,   0,   0,   0,   0,   0, 255,\n",
       "          0,   0,   0,   0,   0,   0,   0,   0, 255, 255,   0,   0,   0,\n",
       "          0,   0],\n",
       "       [  0,   0,   0,   0,   0,   0,   0,   0,   0,   0,   0,   0, 255,\n",
       "        255,   0,   0,   0,   0,   0, 255, 255,   0,   0,   0,   0,   0,\n",
       "          0,   0],\n",
       "       [  0,   0,   0,   0,   0,   0,   0,   0,   0,   0,   0,   0,   0,\n",
       "        255, 255, 255, 255, 255, 255, 255,   0,   0,   0,   0,   0,   0,\n",
       "          0,   0],\n",
       "       [  0,   0,   0,   0,   0,   0,   0,   0,   0,   0,   0,   0,   0,\n",
       "          0,   0,   0,   0,   0,   0,   0,   0,   0,   0,   0,   0,   0,\n",
       "          0,   0],\n",
       "       [  0,   0,   0,   0,   0,   0,   0,   0,   0,   0,   0,   0,   0,\n",
       "          0,   0,   0,   0,   0,   0,   0,   0,   0,   0,   0,   0,   0,\n",
       "          0,   0],\n",
       "       [  0,   0,   0,   0,   0,   0,   0,   0,   0,   0,   0,   0,   0,\n",
       "          0,   0,   0,   0,   0,   0,   0,   0,   0,   0,   0,   0,   0,\n",
       "          0,   0],\n",
       "       [  0,   0,   0,   0,   0,   0,   0,   0,   0,   0,   0,   0,   0,\n",
       "          0,   0,   0,   0,   0,   0,   0,   0,   0,   0,   0,   0,   0,\n",
       "          0,   0],\n",
       "       [  0,   0,   0,   0,   0,   0,   0,   0,   0,   0,   0,   0,   0,\n",
       "          0,   0,   0,   0,   0,   0,   0,   0,   0,   0,   0,   0,   0,\n",
       "          0,   0]], dtype=uint8)"
      ]
     },
     "execution_count": 9,
     "metadata": {},
     "output_type": "execute_result"
    }
   ],
   "source": [
    "from PIL import Image\n",
    "def load_a_image(path):\n",
    "    img = Image.open(path)\n",
    "    img = img.convert('L')\n",
    "    img = np.array(img,dtype=np.uint8)\n",
    "    return img\n",
    "load_a_image('./number.png')"
   ]
  },
  {
   "cell_type": "code",
   "execution_count": 18,
   "metadata": {},
   "outputs": [
    {
     "name": "stdout",
     "output_type": "stream",
     "text": [
      "预测数字:4\n"
     ]
    },
    {
     "data": {
      "image/png": "[encoded data removed]",
      "text/plain": [
       "<Figure size 640x480 with 1 Axes>"
      ]
     },
     "metadata": {},
     "output_type": "display_data"
    }
   ],
   "source": [
    "#预测\n",
    "def predict_a_image(path,net):\n",
    "    img = load_a_image(path)\n",
    "    net.eval()\n",
    "    y_hat = net(torch.tensor(np.array(img.reshape(1,1,28,28),dtype=np.float32)))\n",
    "    _,prediction = torch.max(y_hat,1)\n",
    "    print(f'预测数字:{prediction.item()}')\n",
    "    plt.imshow(img)\n",
    "    plt.show()\n",
    "predict_a_image('./number.png',net)\n"
   ]
  },
  {
   "cell_type": "code",
   "execution_count": 19,
   "metadata": {},
   "outputs": [
    {
     "name": "stdout",
     "output_type": "stream",
     "text": [
      "预测数字：5,真实数字：5\n"
     ]
    },
    {
     "data": {
      "image/png": "[encoded data removed]",
      "text/plain": [
       "<Figure size 640x480 with 1 Axes>"
      ]
     },
     "metadata": {},
     "output_type": "display_data"
    },
    {
     "name": "stdout",
     "output_type": "stream",
     "text": [
      "预测数字：7,真实数字：7\n"
     ]
    },
    {
     "data": {
      "image/png": "[encoded data removed]",
      "text/plain": [
       "<Figure size 640x480 with 1 Axes>"
      ]
     },
     "metadata": {},
     "output_type": "display_data"
    }
   ],
   "source": [
    "def predict_test_case(data_loader,net):\n",
    "    for batch_idx,(X, y) in enumerate(data_loader):\n",
    "        net.eval()\n",
    "        y_hat = net(X)\n",
    "        _,predict = torch.max(y_hat,1)\n",
    "        print(f'预测数字：{predict[0]},真实数字：{y[0]}')\n",
    "        plt.imshow(np.array(X[0].reshape(28,28)))\n",
    "        plt.show()\n",
    "        print(f'预测数字：{predict[1]},真实数字：{y[1]}')\n",
    "        plt.imshow(np.array(X[1].reshape(28,28)))\n",
    "        plt.show()\n",
    "        break\n",
    "predict_test_case(test_loader,net)"
   ]
  },
  {
   "cell_type": "code",
   "execution_count": null,
   "metadata": {},
   "outputs": [],
   "source": []
  }
 ],
 "metadata": {
  "kernelspec": {
   "display_name": "d2l",
   "language": "python",
   "name": "python3"
  },
  "language_info": {
   "codemirror_mode": {
    "name": "ipython",
    "version": 3
   },
   "file_extension": ".py",
   "mimetype": "text/x-python",
   "name": "python",
   "nbconvert_exporter": "python",
   "pygments_lexer": "ipython3",
   "version": "3.9.18"
  }
 },
 "nbformat": 4,
 "nbformat_minor": 2
}
